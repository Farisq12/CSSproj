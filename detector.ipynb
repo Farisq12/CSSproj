{
 "cells": [
  {
   "cell_type": "markdown",
   "metadata": {},
   "source": [
    "## The goal of this program is to further detect articles that grover deems as written by a human to check if it's an altered document with detecting it using a hash key function and comparing the values of the input and output documents and it will return whether it's altered or not"
   ]
  },
  {
   "cell_type": "markdown",
   "metadata": {},
   "source": [
    "**Importing libraries**"
   ]
  },
  {
   "cell_type": "code",
   "execution_count": 2,
   "metadata": {},
   "outputs": [],
   "source": [
    "import hashlib\n",
    "from collections import defaultdict\n",
    "import string\n",
    "import numpy"
   ]
  },
  {
   "cell_type": "markdown",
   "metadata": {},
   "source": [
    "**First we should be able to parse the text files whether its .txt or .pdf**"
   ]
  },
  {
   "cell_type": "code",
   "execution_count": 3,
   "metadata": {},
   "outputs": [],
   "source": [
    "#function for parsing .txt file\n",
    "def parse_txt(file_path):\n",
    "    with open(file_path, 'r', encoding='utf-8') as file:\n",
    "        text = file.read()\n",
    "    return text"
   ]
  },
  {
   "cell_type": "markdown",
   "metadata": {},
   "source": [
    "**For pdf make sure to install PyPDF2 using: pip install PyPDF2**"
   ]
  },
  {
   "cell_type": "code",
   "execution_count": 4,
   "metadata": {},
   "outputs": [],
   "source": [
    "#function for parsing .pdf file\n",
    "import PyPDF2\n",
    "\n",
    "def parse_pdf(file_path):\n",
    "    with open(file_path, 'rb') as file:\n",
    "        reader = PyPDF2.PdfFileReader(file)\n",
    "        num_p = reader.numPages\n",
    "        text = \"\"\n",
    "\n",
    "        for page_num in range(num_p):\n",
    "            page = reader.getPage(page_num)\n",
    "            text += page.extractText()\n",
    "\n",
    "    return text"
   ]
  },
  {
   "cell_type": "markdown",
   "metadata": {},
   "source": [
    "**Using this if statement we will check if the input is a pdf or txt file**"
   ]
  },
  {
   "cell_type": "code",
   "execution_count": 6,
   "metadata": {},
   "outputs": [],
   "source": [
    "def identifyFile (file):\n",
    "    if file.lower().endswith('.txt'):\n",
    "        return parse_txt(file) #parses txt \n",
    "    elif file.lower().endswith('.pdf'):\n",
    "        return parse_pdf(file) #parses pdf"
   ]
  },
  {
   "cell_type": "markdown",
   "metadata": {},
   "source": [
    "**Now that parsing functions are made we can preprocess the text**"
   ]
  },
  {
   "cell_type": "code",
   "execution_count": 7,
   "metadata": {},
   "outputs": [],
   "source": [
    "def preprocess(text):\n",
    "    # Implement your preprocessing function here\n",
    "    preprocessed_text = text.lower()\n",
    "    return preprocessed_text"
   ]
  },
  {
   "cell_type": "code",
   "execution_count": 8,
   "metadata": {},
   "outputs": [],
   "source": [
    "#Generates hash key for each word in the text using SHA-256\n",
    "def generate_hash_key(word):\n",
    "    sha256 = hashlib.sha256()\n",
    "    sha256.update(word.encode('utf-8'))\n",
    "    return sha256.hexdigest()"
   ]
  },
  {
   "cell_type": "code",
   "execution_count": 9,
   "metadata": {},
   "outputs": [],
   "source": [
    "#Creates and stores words and stores them into a hash_table\n",
    "def create_dict(text):\n",
    "    preprocessed_text = preprocess(text)\n",
    "    words = preprocessed_text.split()\n",
    "    hash_table = defaultdict(list)\n",
    "\n",
    "    for word in words:\n",
    "        hash_key = generate_hash_key(word)\n",
    "        hash_table[hash_key].append(word)\n",
    "    return hash_table"
   ]
  },
  {
   "cell_type": "code",
   "execution_count": 10,
   "metadata": {},
   "outputs": [],
   "source": [
    "#runs the hash key function to compare old vs new text and if values are not the same returns false\n",
    "def verify_doc(document, hash_table):\n",
    "    preprocessed_document = preprocess(document)\n",
    "    words = preprocessed_document.split()\n",
    "\n",
    "    for word in words:\n",
    "        hash_key = generate_hash_key(word)\n",
    "        if hash_key not in hash_table:\n",
    "            return False\n",
    "    return True"
   ]
  },
  {
   "cell_type": "markdown",
   "metadata": {},
   "source": [
    "**Now testing the function on articles to parse and detect if altered**"
   ]
  },
  {
   "cell_type": "code",
   "execution_count": 11,
   "metadata": {},
   "outputs": [
    {
     "name": "stdout",
     "output_type": "stream",
     "text": [
      "Is the document authentic? False\n"
     ]
    }
   ],
   "source": [
    "#This should output false\n",
    "\n",
    "#nutrition article found online\n",
    "input_path = \"docs/article.txt\"\n",
    "#altered article using gpt that grover detected as written by human\n",
    "output_path = \"docs/alt_article.txt\"\n",
    "\n",
    "#parsing files\n",
    "input_text = identifyFile(input_path)\n",
    "document = identifyFile(output_path)\n",
    "\n",
    "#creating hash key and storing for input and output and comparing it\n",
    "hash_table = create_dict(input_text)\n",
    "is_authentic = verify_doc(document, hash_table) #returns boolean\n",
    "\n",
    "print(\"Is the document authentic?\", is_authentic)"
   ]
  },
  {
   "cell_type": "code",
   "execution_count": 12,
   "metadata": {},
   "outputs": [
    {
     "name": "stdout",
     "output_type": "stream",
     "text": [
      "Is the document authentic? True\n"
     ]
    }
   ],
   "source": [
    "#This should output true\n",
    "\n",
    "#Using the same document\n",
    "input_path = \"docs/article.txt\"\n",
    "output_path = \"docs/article.txt\"\n",
    "\n",
    "#parsing files\n",
    "input_text = identifyFile(input_path)\n",
    "document = identifyFile(output_path)\n",
    "\n",
    "#creating hash key and storing for input and output and comparing it\n",
    "hash_table = create_dict(input_text)\n",
    "is_authentic = verify_doc(document, hash_table) #returns boolean\n",
    "\n",
    "print(\"Is the document authentic?\", is_authentic)"
   ]
  },
  {
   "cell_type": "markdown",
   "metadata": {},
   "source": [
    "**Now using a different article found online and altered with gpt**"
   ]
  },
  {
   "cell_type": "code",
   "execution_count": 16,
   "metadata": {},
   "outputs": [
    {
     "name": "stdout",
     "output_type": "stream",
     "text": [
      "Is the document authentic? False\n"
     ]
    }
   ],
   "source": [
    "#This should output false\n",
    "\n",
    "#killer whales article found online\n",
    "input_path = \"docs/Article_02\"\n",
    "#altered article using gpt that grover detected as written by human\n",
    "output_path = \"docs/alt_Article02\"\n",
    "\n",
    "#parsing files not using identify file for this since isn't marked as .txt\n",
    "input_text = parse_txt(input_path)\n",
    "document = parse_txt(output_path)\n",
    "\n",
    "#creating hash key and storing for input and output and comparing it\n",
    "hash_table = create_dict(input_text)\n",
    "is_authentic = verify_doc(document, hash_table) #returns boolean\n",
    "\n",
    "print(\"Is the document authentic?\", is_authentic)"
   ]
  }
 ],
 "metadata": {
  "kernelspec": {
   "display_name": "Python 3.9.12 ('base')",
   "language": "python",
   "name": "python3"
  },
  "language_info": {
   "codemirror_mode": {
    "name": "ipython",
    "version": 3
   },
   "file_extension": ".py",
   "mimetype": "text/x-python",
   "name": "python",
   "nbconvert_exporter": "python",
   "pygments_lexer": "ipython3",
   "version": "3.9.12"
  },
  "orig_nbformat": 4,
  "vscode": {
   "interpreter": {
    "hash": "302b62cf748a890b25d1c845d1f31bf6a836a82abe7bc900ffc29ed792cad2fd"
   }
  }
 },
 "nbformat": 4,
 "nbformat_minor": 2
}
